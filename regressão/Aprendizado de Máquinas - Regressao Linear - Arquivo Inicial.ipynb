{
 "cells": [
  {
   "cell_type": "markdown",
   "id": "feac95d5",
   "metadata": {},
   "source": [
    "# Criando um modelo de Regressão Linear\n",
    "- Tenho os dados de preço, desconto e venda e vou fazer uma campanha de natal nas lojas com o preço de 17.50 e desconto de até 40 centavos e preciso saber quanto de estoque eu devo mandar para a loja"
   ]
  },
  {
   "cell_type": "code",
   "execution_count": 1,
   "id": "02c69487",
   "metadata": {},
   "outputs": [],
   "source": [
    "# Importando a base de dados\n",
    "import pandas as pd\n",
    "import matplotlib.pyplot as plt\n",
    "\n",
    "dados = pd.read_excel(\"dadosVenda.xlsx\")"
   ]
  },
  {
   "cell_type": "code",
   "execution_count": null,
   "id": "e7fbcf2f",
   "metadata": {},
   "outputs": [],
   "source": [
    "# Visualizando os dados\n",
    "#display (dados)\n",
    "print(dados.head())\n",
    "#print(dados.tail())"
   ]
  },
  {
   "cell_type": "code",
   "execution_count": null,
   "id": "a2625f3d",
   "metadata": {},
   "outputs": [],
   "source": [
    "# Verificando as informações da base\n",
    "dados.info()"
   ]
  },
  {
   "cell_type": "markdown",
   "id": "b7e34994",
   "metadata": {},
   "source": [
    "**Tratando valores vazios**"
   ]
  },
  {
   "cell_type": "code",
   "execution_count": 4,
   "id": "022ecbfe",
   "metadata": {},
   "outputs": [],
   "source": [
    "# Ajustando os dados com valores de desconto vazio \n",
    "dados.loc[dados.Desconto.isnull(),\"Desconto\"] = 0\n",
    "\n"
   ]
  },
  {
   "cell_type": "code",
   "execution_count": null,
   "id": "d1ec0f05",
   "metadata": {},
   "outputs": [],
   "source": [
    "# Verificando novamente as informações da base\n",
    "dados.info()"
   ]
  },
  {
   "cell_type": "markdown",
   "id": "9fe9f8ff",
   "metadata": {},
   "source": [
    "**Entendendo a base**"
   ]
  },
  {
   "cell_type": "code",
   "execution_count": null,
   "id": "de021953",
   "metadata": {},
   "outputs": [],
   "source": [
    "# Podemos fazer o scatter plot\n",
    "fig, ax = plt.subplots()\n",
    "y= dados['VendaQtd']\n",
    "x = dados['PrecoVenda']\n",
    "plt.xlabel('PrecoVenda')\n",
    "plt.ylabel('VendaQtd')\n",
    "ax.scatter(x,y, s = 5, c= 'blue')\n",
    "plt.show()"
   ]
  },
  {
   "cell_type": "code",
   "execution_count": 7,
   "id": "d1af6999",
   "metadata": {},
   "outputs": [],
   "source": [
    "# Importando o LinearRegression\n",
    "from sklearn.linear_model import LinearRegression\n"
   ]
  },
  {
   "cell_type": "code",
   "execution_count": null,
   "id": "5d44975f",
   "metadata": {},
   "outputs": [],
   "source": [
    "# Criando os dados\n",
    "x = dados.PrecoVenda\n",
    "y = dados.VendaQtd"
   ]
  },
  {
   "cell_type": "code",
   "execution_count": 10,
   "id": "f0438fda",
   "metadata": {},
   "outputs": [],
   "source": [
    "# Fazendo o fit do modelo\n",
    "reg = LinearRegression().fit(x.values.reshape(-1,1),y)"
   ]
  },
  {
   "cell_type": "code",
   "execution_count": null,
   "id": "b503c67e",
   "metadata": {},
   "outputs": [],
   "source": [
    "reg.score(x.values.reshape(-1,1),y)"
   ]
  },
  {
   "cell_type": "code",
   "execution_count": 15,
   "id": "ebc0817a",
   "metadata": {},
   "outputs": [],
   "source": [
    "# Podemos definir uma lista de valores para fazermos a previsão\n",
    "valores = {\n",
    "    'valores': [17.50, 17.40, 17.30, 17.20, 17.10]\n",
    "}\n",
    "\n",
    "valores = pd.DataFrame(valores)"
   ]
  },
  {
   "cell_type": "code",
   "execution_count": null,
   "id": "bbb209dd",
   "metadata": {},
   "outputs": [],
   "source": [
    "\n",
    "import matplotlib.pyplot as plt\n",
    "import numpy as np \n",
    "#plot \n",
    "fig, ax = plt.subplots()\n",
    "\n",
    "ax.scatter(dados.PrecoVenda, dados.VendaQtd)\n",
    "x_plot = np.arange(2,23)\n",
    "y_plot = reg.coef_[0]*x_plot+reg.intercept_\n",
    "ax.plot (x_plot,y_plot, c= \"red\")"
   ]
  },
  {
   "cell_type": "code",
   "execution_count": null,
   "id": "7befe319",
   "metadata": {},
   "outputs": [],
   "source": [
    "# Fazendo o predict\n",
    "reg.predict(valores)"
   ]
  },
  {
   "cell_type": "code",
   "execution_count": null,
   "id": "5ee78f9a",
   "metadata": {},
   "outputs": [],
   "source": [
    "# Verificando os dados para esse mesmo preço de venda\n",
    "dados[dados.PrecoVenda == 17.10]"
   ]
  },
  {
   "cell_type": "code",
   "execution_count": null,
   "id": "c503883d",
   "metadata": {},
   "outputs": [],
   "source": [
    "# Verificando os dados para um range de preços e descontos\n",
    "dados[(dados.PrecoOriginal >= 17) & (dados.PrecoOriginal <= 18) & (dados.Desconto >= 0) & (dados.Desconto <= 0.4)]"
   ]
  },
  {
   "cell_type": "markdown",
   "id": "f9cd3d52",
   "metadata": {},
   "source": [
    "### Escolhendo novas entradas pro modelo\n",
    "- Podemos, ao invés de usar PrecoVenda, usar PrecoOriginal e Desconto"
   ]
  },
  {
   "cell_type": "code",
   "execution_count": null,
   "id": "c8ea01a2",
   "metadata": {},
   "outputs": [],
   "source": [
    "# Verificando novamente os dados para um range de preços e descontos\n",
    "dados[(dados.PrecoOriginal >= 17) & (dados.PrecoOriginal <= 18) & (dados.Desconto >= 0) & (dados.Desconto <= 0.4)]"
   ]
  },
  {
   "cell_type": "markdown",
   "id": "0a3c5661",
   "metadata": {},
   "source": [
    "**Fazendo o predict apenas com o preço de venda**"
   ]
  },
  {
   "cell_type": "markdown",
   "id": "e014b1d3",
   "metadata": {},
   "source": [
    "**Fazendo o predict apenas com o preço original e o desconto**"
   ]
  },
  {
   "cell_type": "code",
   "execution_count": null,
   "id": "434c3050",
   "metadata": {},
   "outputs": [],
   "source": []
  }
 ],
 "metadata": {
  "kernelspec": {
   "display_name": "Python 3 (ipykernel)",
   "language": "python",
   "name": "python3"
  },
  "language_info": {
   "codemirror_mode": {
    "name": "ipython",
    "version": 3
   },
   "file_extension": ".py",
   "mimetype": "text/x-python",
   "name": "python",
   "nbconvert_exporter": "python",
   "pygments_lexer": "ipython3",
   "version": "3.10.4"
  }
 },
 "nbformat": 4,
 "nbformat_minor": 5
}
