{
 "cells": [
  {
   "cell_type": "markdown",
   "id": "feac95d5",
   "metadata": {},
   "source": [
    "# Criando um modelo de Regressão Linear\n",
    "- Tenho os dados de preço, desconto e venda e vou fazer uma campanha de natal nas lojas com o preço de 17.50 e desconto de até 40 centavos e preciso saber quanto de estoque eu devo mandar para a loja"
   ]
  },
  {
   "cell_type": "code",
   "execution_count": null,
   "id": "02c69487",
   "metadata": {},
   "outputs": [],
   "source": [
    "# Importando a base de dados\n",
    "# - Base de dados: \"dadosVenda.xlsx\""
   ]
  },
  {
   "cell_type": "code",
   "execution_count": null,
   "id": "e7fbcf2f",
   "metadata": {},
   "outputs": [],
   "source": [
    "# Visualizando os dados"
   ]
  },
  {
   "cell_type": "code",
   "execution_count": null,
   "id": "a2625f3d",
   "metadata": {},
   "outputs": [],
   "source": [
    "# Verificando as informações da base"
   ]
  },
  {
   "cell_type": "markdown",
   "id": "b7e34994",
   "metadata": {},
   "source": [
    "**Tratando valores vazios**"
   ]
  },
  {
   "cell_type": "code",
   "execution_count": null,
   "id": "022ecbfe",
   "metadata": {},
   "outputs": [],
   "source": [
    "# Ajustando os dados com valores de desconto vazio"
   ]
  },
  {
   "cell_type": "code",
   "execution_count": null,
   "id": "d1ec0f05",
   "metadata": {},
   "outputs": [],
   "source": [
    "# Verificando novamente as informações da base"
   ]
  },
  {
   "cell_type": "markdown",
   "id": "9fe9f8ff",
   "metadata": {},
   "source": [
    "**Entendendo a base**"
   ]
  },
  {
   "cell_type": "code",
   "execution_count": null,
   "id": "de021953",
   "metadata": {},
   "outputs": [],
   "source": [
    "# Podemos fazer o scatter plot"
   ]
  },
  {
   "cell_type": "markdown",
   "id": "73dc7d16",
   "metadata": {},
   "source": [
    "### Definição do modelo\n",
    "- https://scikit-learn.org/stable/modules/generated/sklearn.linear_model.LinearRegression.html"
   ]
  },
  {
   "cell_type": "code",
   "execution_count": null,
   "id": "d1af6999",
   "metadata": {},
   "outputs": [],
   "source": [
    "# Importando o LinearRegression"
   ]
  },
  {
   "cell_type": "code",
   "execution_count": null,
   "id": "5d44975f",
   "metadata": {},
   "outputs": [],
   "source": [
    "# Criando os dados"
   ]
  },
  {
   "cell_type": "code",
   "execution_count": null,
   "id": "f0438fda",
   "metadata": {},
   "outputs": [],
   "source": [
    "# Fazendo o fit do modelo"
   ]
  },
  {
   "cell_type": "code",
   "execution_count": null,
   "id": "ebc0817a",
   "metadata": {},
   "outputs": [],
   "source": [
    "# Podemos definir uma lista de valores para fazermos a previsão\n",
    "valores = {\n",
    "    'valores': [17.50, 17.40, 17.30, 17.20, 17.10]\n",
    "}\n",
    "\n",
    "valores = pd.DataFrame(valores)"
   ]
  },
  {
   "cell_type": "code",
   "execution_count": null,
   "id": "bbb209dd",
   "metadata": {},
   "outputs": [],
   "source": [
    "# Fazendo o predict"
   ]
  },
  {
   "cell_type": "code",
   "execution_count": null,
   "id": "5ee78f9a",
   "metadata": {},
   "outputs": [],
   "source": [
    "# Verificando os dados para esse mesmo preço de venda\n",
    "dados[dados.PrecoVenda == 17.10]"
   ]
  },
  {
   "cell_type": "code",
   "execution_count": null,
   "id": "c503883d",
   "metadata": {},
   "outputs": [],
   "source": [
    "# Verificando os dados para um range de preços e descontos\n",
    "dados[(dados.PrecoOriginal >= 17) & (dados.PrecoOriginal <= 18) & (dados.Desconto >= 0) & (dados.Desconto <= 0.4)]"
   ]
  },
  {
   "cell_type": "markdown",
   "id": "f9cd3d52",
   "metadata": {},
   "source": [
    "### Escolhendo novas entradas pro modelo\n",
    "- Podemos, ao invés de usar PrecoVenda, usar PrecoOriginal e Desconto"
   ]
  },
  {
   "cell_type": "code",
   "execution_count": null,
   "id": "c8ea01a2",
   "metadata": {},
   "outputs": [],
   "source": [
    "# Verificando novamente os dados para um range de preços e descontos\n",
    "dados[(dados.PrecoOriginal >= 17) & (dados.PrecoOriginal <= 18) & (dados.Desconto >= 0) & (dados.Desconto <= 0.4)]"
   ]
  },
  {
   "cell_type": "markdown",
   "id": "4311f7c8",
   "metadata": {},
   "source": [
    "### Analisando erros\n",
    "- https://scikit-learn.org/stable/modules/generated/sklearn.metrics.mean_absolute_error.html\n",
    "- https://scikit-learn.org/stable/modules/generated/sklearn.metrics.mean_absolute_percentage_error.html"
   ]
  },
  {
   "cell_type": "markdown",
   "id": "0a3c5661",
   "metadata": {},
   "source": [
    "**Fazendo o predict apenas com o preço de venda**"
   ]
  },
  {
   "cell_type": "markdown",
   "id": "e014b1d3",
   "metadata": {},
   "source": [
    "**Fazendo o predict apenas com o preço original e o desconto**"
   ]
  },
  {
   "cell_type": "code",
   "execution_count": null,
   "id": "434c3050",
   "metadata": {},
   "outputs": [],
   "source": []
  }
 ],
 "metadata": {
  "kernelspec": {
   "display_name": "Python 3 (ipykernel)",
   "language": "python",
   "name": "python3"
  },
  "language_info": {
   "codemirror_mode": {
    "name": "ipython",
    "version": 3
   },
   "file_extension": ".py",
   "mimetype": "text/x-python",
   "name": "python",
   "nbconvert_exporter": "python",
   "pygments_lexer": "ipython3",
   "version": "3.9.12"
  }
 },
 "nbformat": 4,
 "nbformat_minor": 5
}
